{
 "cells": [
  {
   "cell_type": "markdown",
   "metadata": {},
   "source": [
    "## Analysis of US Alternative Fuel Stations"
   ]
  },
  {
   "cell_type": "code",
   "execution_count": 1,
   "metadata": {},
   "outputs": [],
   "source": [
    "import pandas as pd"
   ]
  },
  {
   "cell_type": "code",
   "execution_count": 2,
   "metadata": {},
   "outputs": [],
   "source": [
    "#1 import numpy\n",
    "import numpy as np"
   ]
  },
  {
   "cell_type": "code",
   "execution_count": 3,
   "metadata": {},
   "outputs": [
    {
     "name": "stderr",
     "output_type": "stream",
     "text": [
      "C:\\Users\\bukep\\AppData\\Local\\Temp\\ipykernel_41676\\2764453876.py:2: DtypeWarning: Columns (6,16,20,31,33,39,40,41,43,46,52,55,57,58,60,62,65,67,69,71) have mixed types. Specify dtype option on import or set low_memory=False.\n",
      "  df = pd.read_csv('C:\\\\Users\\\\bukep\\\\Desktop\\\\Data_Science\\\\Alternative Fuels Data center -US Eenergy\\\\alt_fuel_stations_Jan_14_2024.csv')\n"
     ]
    }
   ],
   "source": [
    "#2 link to the alt_fuel_stations_Jan 2024.csv\n",
    "df = pd.read_csv('C:\\\\Users\\\\bukep\\\\Desktop\\\\Data_Science\\\\Alternative Fuels Data center -US Eenergy\\\\alt_fuel_stations_Jan_14_2024.csv')"
   ]
  },
  {
   "cell_type": "code",
   "execution_count": 4,
   "metadata": {},
   "outputs": [
    {
     "data": {
      "text/html": [
       "<div>\n",
       "<style scoped>\n",
       "    .dataframe tbody tr th:only-of-type {\n",
       "        vertical-align: middle;\n",
       "    }\n",
       "\n",
       "    .dataframe tbody tr th {\n",
       "        vertical-align: top;\n",
       "    }\n",
       "\n",
       "    .dataframe thead th {\n",
       "        text-align: right;\n",
       "    }\n",
       "</style>\n",
       "<table border=\"1\" class=\"dataframe\">\n",
       "  <thead>\n",
       "    <tr style=\"text-align: right;\">\n",
       "      <th></th>\n",
       "      <th>Fuel Type Code</th>\n",
       "      <th>Station Name</th>\n",
       "      <th>Street Address</th>\n",
       "      <th>Intersection Directions</th>\n",
       "      <th>City</th>\n",
       "      <th>State</th>\n",
       "      <th>ZIP</th>\n",
       "      <th>Plus4</th>\n",
       "      <th>Station Phone</th>\n",
       "      <th>Status Code</th>\n",
       "      <th>...</th>\n",
       "      <th>Restricted Access</th>\n",
       "      <th>RD Blends</th>\n",
       "      <th>RD Blends (French)</th>\n",
       "      <th>RD Blended with Biodiesel</th>\n",
       "      <th>RD Maximum Biodiesel Level</th>\n",
       "      <th>NPS Unit Name</th>\n",
       "      <th>CNG Station Sells Renewable Natural Gas</th>\n",
       "      <th>LNG Station Sells Renewable Natural Gas</th>\n",
       "      <th>Maximum Vehicle Class</th>\n",
       "      <th>EV Workplace Charging</th>\n",
       "    </tr>\n",
       "  </thead>\n",
       "  <tbody>\n",
       "    <tr>\n",
       "      <th>0</th>\n",
       "      <td>CNG</td>\n",
       "      <td>Spire - Montgomery Operations Center</td>\n",
       "      <td>2951 Chestnut St</td>\n",
       "      <td>NaN</td>\n",
       "      <td>Montgomery</td>\n",
       "      <td>AL</td>\n",
       "      <td>36107</td>\n",
       "      <td>NaN</td>\n",
       "      <td>NaN</td>\n",
       "      <td>E</td>\n",
       "      <td>...</td>\n",
       "      <td>NaN</td>\n",
       "      <td>NaN</td>\n",
       "      <td>NaN</td>\n",
       "      <td>NaN</td>\n",
       "      <td>NaN</td>\n",
       "      <td>NaN</td>\n",
       "      <td>False</td>\n",
       "      <td>NaN</td>\n",
       "      <td>MD</td>\n",
       "      <td>NaN</td>\n",
       "    </tr>\n",
       "    <tr>\n",
       "      <th>1</th>\n",
       "      <td>CNG</td>\n",
       "      <td>Metropolitan Atlanta Rapid Transit Authority</td>\n",
       "      <td>2424 Piedmont Rd NE</td>\n",
       "      <td>NaN</td>\n",
       "      <td>Atlanta</td>\n",
       "      <td>GA</td>\n",
       "      <td>30324</td>\n",
       "      <td>NaN</td>\n",
       "      <td>NaN</td>\n",
       "      <td>E</td>\n",
       "      <td>...</td>\n",
       "      <td>NaN</td>\n",
       "      <td>NaN</td>\n",
       "      <td>NaN</td>\n",
       "      <td>NaN</td>\n",
       "      <td>NaN</td>\n",
       "      <td>NaN</td>\n",
       "      <td>NaN</td>\n",
       "      <td>NaN</td>\n",
       "      <td>LD</td>\n",
       "      <td>NaN</td>\n",
       "    </tr>\n",
       "    <tr>\n",
       "      <th>2</th>\n",
       "      <td>CNG</td>\n",
       "      <td>United Parcel Service</td>\n",
       "      <td>270 Marvin Miller Dr</td>\n",
       "      <td>NaN</td>\n",
       "      <td>Atlanta</td>\n",
       "      <td>GA</td>\n",
       "      <td>30336</td>\n",
       "      <td>NaN</td>\n",
       "      <td>NaN</td>\n",
       "      <td>E</td>\n",
       "      <td>...</td>\n",
       "      <td>NaN</td>\n",
       "      <td>NaN</td>\n",
       "      <td>NaN</td>\n",
       "      <td>NaN</td>\n",
       "      <td>NaN</td>\n",
       "      <td>NaN</td>\n",
       "      <td>True</td>\n",
       "      <td>NaN</td>\n",
       "      <td>HD</td>\n",
       "      <td>NaN</td>\n",
       "    </tr>\n",
       "    <tr>\n",
       "      <th>3</th>\n",
       "      <td>CNG</td>\n",
       "      <td>Arkansas Oklahoma Gas Corp</td>\n",
       "      <td>2100 S Waldron Rd</td>\n",
       "      <td>NaN</td>\n",
       "      <td>Fort Smith</td>\n",
       "      <td>AR</td>\n",
       "      <td>72903</td>\n",
       "      <td>NaN</td>\n",
       "      <td>479-783-3181</td>\n",
       "      <td>E</td>\n",
       "      <td>...</td>\n",
       "      <td>False</td>\n",
       "      <td>NaN</td>\n",
       "      <td>NaN</td>\n",
       "      <td>NaN</td>\n",
       "      <td>NaN</td>\n",
       "      <td>NaN</td>\n",
       "      <td>False</td>\n",
       "      <td>NaN</td>\n",
       "      <td>MD</td>\n",
       "      <td>NaN</td>\n",
       "    </tr>\n",
       "    <tr>\n",
       "      <th>4</th>\n",
       "      <td>CNG</td>\n",
       "      <td>Clean Energy - Logan International Airport</td>\n",
       "      <td>1000 Cottage St Ext</td>\n",
       "      <td>From Route 1, take the first exit after Callah...</td>\n",
       "      <td>East Boston</td>\n",
       "      <td>MA</td>\n",
       "      <td>2128</td>\n",
       "      <td>NaN</td>\n",
       "      <td>866-809-4869</td>\n",
       "      <td>E</td>\n",
       "      <td>...</td>\n",
       "      <td>False</td>\n",
       "      <td>NaN</td>\n",
       "      <td>NaN</td>\n",
       "      <td>NaN</td>\n",
       "      <td>NaN</td>\n",
       "      <td>NaN</td>\n",
       "      <td>True</td>\n",
       "      <td>NaN</td>\n",
       "      <td>MD</td>\n",
       "      <td>NaN</td>\n",
       "    </tr>\n",
       "  </tbody>\n",
       "</table>\n",
       "<p>5 rows × 74 columns</p>\n",
       "</div>"
      ],
      "text/plain": [
       "  Fuel Type Code                                  Station Name  \\\n",
       "0            CNG          Spire - Montgomery Operations Center   \n",
       "1            CNG  Metropolitan Atlanta Rapid Transit Authority   \n",
       "2            CNG                         United Parcel Service   \n",
       "3            CNG                    Arkansas Oklahoma Gas Corp   \n",
       "4            CNG    Clean Energy - Logan International Airport   \n",
       "\n",
       "         Street Address                            Intersection Directions  \\\n",
       "0      2951 Chestnut St                                                NaN   \n",
       "1   2424 Piedmont Rd NE                                                NaN   \n",
       "2  270 Marvin Miller Dr                                                NaN   \n",
       "3     2100 S Waldron Rd                                                NaN   \n",
       "4   1000 Cottage St Ext  From Route 1, take the first exit after Callah...   \n",
       "\n",
       "          City State    ZIP  Plus4 Station Phone Status Code  ...  \\\n",
       "0   Montgomery    AL  36107    NaN           NaN           E  ...   \n",
       "1      Atlanta    GA  30324    NaN           NaN           E  ...   \n",
       "2      Atlanta    GA  30336    NaN           NaN           E  ...   \n",
       "3   Fort Smith    AR  72903    NaN  479-783-3181           E  ...   \n",
       "4  East Boston    MA   2128    NaN  866-809-4869           E  ...   \n",
       "\n",
       "  Restricted Access RD Blends RD Blends (French) RD Blended with Biodiesel  \\\n",
       "0               NaN       NaN                NaN                       NaN   \n",
       "1               NaN       NaN                NaN                       NaN   \n",
       "2               NaN       NaN                NaN                       NaN   \n",
       "3             False       NaN                NaN                       NaN   \n",
       "4             False       NaN                NaN                       NaN   \n",
       "\n",
       "  RD Maximum Biodiesel Level NPS Unit Name  \\\n",
       "0                        NaN           NaN   \n",
       "1                        NaN           NaN   \n",
       "2                        NaN           NaN   \n",
       "3                        NaN           NaN   \n",
       "4                        NaN           NaN   \n",
       "\n",
       "  CNG Station Sells Renewable Natural Gas  \\\n",
       "0                                   False   \n",
       "1                                     NaN   \n",
       "2                                    True   \n",
       "3                                   False   \n",
       "4                                    True   \n",
       "\n",
       "   LNG Station Sells Renewable Natural Gas  Maximum Vehicle Class  \\\n",
       "0                                      NaN                     MD   \n",
       "1                                      NaN                     LD   \n",
       "2                                      NaN                     HD   \n",
       "3                                      NaN                     MD   \n",
       "4                                      NaN                     MD   \n",
       "\n",
       "   EV Workplace Charging  \n",
       "0                    NaN  \n",
       "1                    NaN  \n",
       "2                    NaN  \n",
       "3                    NaN  \n",
       "4                    NaN  \n",
       "\n",
       "[5 rows x 74 columns]"
      ]
     },
     "execution_count": 4,
     "metadata": {},
     "output_type": "execute_result"
    }
   ],
   "source": [
    "df.head()"
   ]
  },
  {
   "cell_type": "code",
   "execution_count": 7,
   "metadata": {},
   "outputs": [
    {
     "name": "stdout",
     "output_type": "stream",
     "text": [
      "<class 'pandas.core.frame.DataFrame'>\n",
      "RangeIndex: 94369 entries, 0 to 94368\n",
      "Data columns (total 74 columns):\n",
      " #   Column                                   Non-Null Count  Dtype  \n",
      "---  ------                                   --------------  -----  \n",
      " 0   Fuel Type Code                           94369 non-null  object \n",
      " 1   Station Name                             94368 non-null  object \n",
      " 2   Street Address                           94335 non-null  object \n",
      " 3   Intersection Directions                  5089 non-null   object \n",
      " 4   City                                     94365 non-null  object \n",
      " 5   State                                    94354 non-null  object \n",
      " 6   ZIP                                      94369 non-null  object \n",
      " 7   Plus4                                    0 non-null      float64\n",
      " 8   Station Phone                            87172 non-null  object \n",
      " 9   Status Code                              94369 non-null  object \n",
      " 10  Expected Date                            6521 non-null   object \n",
      " 11  Groups With Access Code                  94369 non-null  object \n",
      " 12  Access Days Time                         83675 non-null  object \n",
      " 13  Cards Accepted                           17186 non-null  object \n",
      " 14  BD Blends                                1702 non-null   object \n",
      " 15  NG Fill Type Code                        1501 non-null   object \n",
      " 16  NG PSI                                   1497 non-null   object \n",
      " 17  EV Level1 EVSE Num                       755 non-null    float64\n",
      " 18  EV Level2 EVSE Num                       71367 non-null  float64\n",
      " 19  EV DC Fast Count                         12062 non-null  float64\n",
      " 20  EV Other Info                            40 non-null     object \n",
      " 21  EV Network                               82209 non-null  object \n",
      " 22  EV Network Web                           69854 non-null  object \n",
      " 23  Geocode Status                           94366 non-null  object \n",
      " 24  Latitude                                 94369 non-null  float64\n",
      " 25  Longitude                                94369 non-null  float64\n",
      " 26  Date Last Confirmed                      94263 non-null  object \n",
      " 27  ID                                       94369 non-null  int64  \n",
      " 28  Updated At                               94369 non-null  object \n",
      " 29  Owner Type Code                          35186 non-null  object \n",
      " 30  Federal Agency ID                        1322 non-null   float64\n",
      " 31  Federal Agency Name                      1322 non-null   object \n",
      " 32  Open Date                                92496 non-null  object \n",
      " 33  Hydrogen Status Link                     77 non-null     object \n",
      " 34  NG Vehicle Class                         1644 non-null   object \n",
      " 35  LPG Primary                              3267 non-null   object \n",
      " 36  E85 Blender Pump                         4527 non-null   object \n",
      " 37  EV Connector Types                       82020 non-null  object \n",
      " 38  Country                                  94369 non-null  object \n",
      " 39  Intersection Directions (French)         203 non-null    object \n",
      " 40  Access Days Time (French)                5471 non-null   object \n",
      " 41  BD Blends (French)                       1 non-null      object \n",
      " 42  Groups With Access Code (French)         94369 non-null  object \n",
      " 43  Hydrogen Is Retail                       112 non-null    object \n",
      " 44  Access Code                              94368 non-null  object \n",
      " 45  Access Detail Code                       8725 non-null   object \n",
      " 46  Federal Agency Code                      1322 non-null   object \n",
      " 47  Facility Type                            32757 non-null  object \n",
      " 48  CNG Dispenser Num                        1029 non-null   float64\n",
      " 49  CNG On-Site Renewable Source             514 non-null    object \n",
      " 50  CNG Total Compression Capacity           622 non-null    float64\n",
      " 51  CNG Storage Capacity                     319 non-null    float64\n",
      " 52  LNG On-Site Renewable Source             45 non-null     object \n",
      " 53  E85 Other Ethanol Blends                 1496 non-null   object \n",
      " 54  EV Pricing                               16092 non-null  object \n",
      " 55  EV Pricing (French)                      2218 non-null   object \n",
      " 56  LPG Nozzle Types                         3238 non-null   object \n",
      " 57  Hydrogen Pressures                       121 non-null    object \n",
      " 58  Hydrogen Standards                       112 non-null    object \n",
      " 59  CNG Fill Type Code                       1501 non-null   object \n",
      " 60  CNG PSI                                  1497 non-null   object \n",
      " 61  CNG Vehicle Class                        1519 non-null   object \n",
      " 62  LNG Vehicle Class                        125 non-null    object \n",
      " 63  EV On-Site Renewable Source              522 non-null    object \n",
      " 64  Restricted Access                        24149 non-null  object \n",
      " 65  RD Blends                                610 non-null    object \n",
      " 66  RD Blends (French)                       0 non-null      float64\n",
      " 67  RD Blended with Biodiesel                582 non-null    object \n",
      " 68  RD Maximum Biodiesel Level               537 non-null    float64\n",
      " 69  NPS Unit Name                            184 non-null    object \n",
      " 70  CNG Station Sells Renewable Natural Gas  955 non-null    object \n",
      " 71  LNG Station Sells Renewable Natural Gas  68 non-null     object \n",
      " 72  Maximum Vehicle Class                    22219 non-null  object \n",
      " 73  EV Workplace Charging                    82187 non-null  object \n",
      "dtypes: float64(12), int64(1), object(61)\n",
      "memory usage: 53.3+ MB\n"
     ]
    }
   ],
   "source": [
    "df.info()"
   ]
  },
  {
   "cell_type": "code",
   "execution_count": 8,
   "metadata": {},
   "outputs": [
    {
     "data": {
      "text/plain": [
       "Index(['Fuel Type Code', 'Station Name', 'Street Address',\n",
       "       'Intersection Directions', 'City', 'State', 'ZIP', 'Plus4',\n",
       "       'Station Phone', 'Status Code', 'Expected Date',\n",
       "       'Groups With Access Code', 'Access Days Time', 'Cards Accepted',\n",
       "       'BD Blends', 'NG Fill Type Code', 'NG PSI', 'EV Level1 EVSE Num',\n",
       "       'EV Level2 EVSE Num', 'EV DC Fast Count', 'EV Other Info', 'EV Network',\n",
       "       'EV Network Web', 'Geocode Status', 'Latitude', 'Longitude',\n",
       "       'Date Last Confirmed', 'ID', 'Updated At', 'Owner Type Code',\n",
       "       'Federal Agency ID', 'Federal Agency Name', 'Open Date',\n",
       "       'Hydrogen Status Link', 'NG Vehicle Class', 'LPG Primary',\n",
       "       'E85 Blender Pump', 'EV Connector Types', 'Country',\n",
       "       'Intersection Directions (French)', 'Access Days Time (French)',\n",
       "       'BD Blends (French)', 'Groups With Access Code (French)',\n",
       "       'Hydrogen Is Retail', 'Access Code', 'Access Detail Code',\n",
       "       'Federal Agency Code', 'Facility Type', 'CNG Dispenser Num',\n",
       "       'CNG On-Site Renewable Source', 'CNG Total Compression Capacity',\n",
       "       'CNG Storage Capacity', 'LNG On-Site Renewable Source',\n",
       "       'E85 Other Ethanol Blends', 'EV Pricing', 'EV Pricing (French)',\n",
       "       'LPG Nozzle Types', 'Hydrogen Pressures', 'Hydrogen Standards',\n",
       "       'CNG Fill Type Code', 'CNG PSI', 'CNG Vehicle Class',\n",
       "       'LNG Vehicle Class', 'EV On-Site Renewable Source', 'Restricted Access',\n",
       "       'RD Blends', 'RD Blends (French)', 'RD Blended with Biodiesel',\n",
       "       'RD Maximum Biodiesel Level', 'NPS Unit Name',\n",
       "       'CNG Station Sells Renewable Natural Gas',\n",
       "       'LNG Station Sells Renewable Natural Gas', 'Maximum Vehicle Class',\n",
       "       'EV Workplace Charging'],\n",
       "      dtype='object')"
      ]
     },
     "execution_count": 8,
     "metadata": {},
     "output_type": "execute_result"
    }
   ],
   "source": [
    "df.columns"
   ]
  },
  {
   "cell_type": "code",
   "execution_count": 5,
   "metadata": {},
   "outputs": [
    {
     "data": {
      "text/plain": [
       "Fuel Type Code                                 0\n",
       "Station Name                                   1\n",
       "Street Address                                34\n",
       "Intersection Directions                    89280\n",
       "City                                           4\n",
       "                                           ...  \n",
       "NPS Unit Name                              94185\n",
       "CNG Station Sells Renewable Natural Gas    93414\n",
       "LNG Station Sells Renewable Natural Gas    94301\n",
       "Maximum Vehicle Class                      72150\n",
       "EV Workplace Charging                      12182\n",
       "Length: 74, dtype: int64"
      ]
     },
     "execution_count": 5,
     "metadata": {},
     "output_type": "execute_result"
    }
   ],
   "source": [
    "#1 - Address all missing values\n",
    "#count the nans\n",
    "df.isnull().sum()"
   ]
  },
  {
   "cell_type": "code",
   "execution_count": 11,
   "metadata": {},
   "outputs": [
    {
     "data": {
      "text/html": [
       "<div>\n",
       "<style scoped>\n",
       "    .dataframe tbody tr th:only-of-type {\n",
       "        vertical-align: middle;\n",
       "    }\n",
       "\n",
       "    .dataframe tbody tr th {\n",
       "        vertical-align: top;\n",
       "    }\n",
       "\n",
       "    .dataframe thead th {\n",
       "        text-align: right;\n",
       "    }\n",
       "</style>\n",
       "<table border=\"1\" class=\"dataframe\">\n",
       "  <thead>\n",
       "    <tr style=\"text-align: right;\">\n",
       "      <th></th>\n",
       "      <th>Fuel Type Code</th>\n",
       "      <th>Station Name</th>\n",
       "      <th>Street Address</th>\n",
       "      <th>Intersection Directions</th>\n",
       "      <th>City</th>\n",
       "      <th>State</th>\n",
       "      <th>ZIP</th>\n",
       "      <th>Plus4</th>\n",
       "      <th>Station Phone</th>\n",
       "      <th>Status Code</th>\n",
       "      <th>...</th>\n",
       "      <th>Restricted Access</th>\n",
       "      <th>RD Blends</th>\n",
       "      <th>RD Blends (French)</th>\n",
       "      <th>RD Blended with Biodiesel</th>\n",
       "      <th>RD Maximum Biodiesel Level</th>\n",
       "      <th>NPS Unit Name</th>\n",
       "      <th>CNG Station Sells Renewable Natural Gas</th>\n",
       "      <th>LNG Station Sells Renewable Natural Gas</th>\n",
       "      <th>Maximum Vehicle Class</th>\n",
       "      <th>EV Workplace Charging</th>\n",
       "    </tr>\n",
       "  </thead>\n",
       "  <tbody>\n",
       "    <tr>\n",
       "      <th>0</th>\n",
       "      <td>False</td>\n",
       "      <td>False</td>\n",
       "      <td>False</td>\n",
       "      <td>True</td>\n",
       "      <td>False</td>\n",
       "      <td>False</td>\n",
       "      <td>False</td>\n",
       "      <td>True</td>\n",
       "      <td>True</td>\n",
       "      <td>False</td>\n",
       "      <td>...</td>\n",
       "      <td>True</td>\n",
       "      <td>True</td>\n",
       "      <td>True</td>\n",
       "      <td>True</td>\n",
       "      <td>True</td>\n",
       "      <td>True</td>\n",
       "      <td>False</td>\n",
       "      <td>True</td>\n",
       "      <td>False</td>\n",
       "      <td>True</td>\n",
       "    </tr>\n",
       "    <tr>\n",
       "      <th>1</th>\n",
       "      <td>False</td>\n",
       "      <td>False</td>\n",
       "      <td>False</td>\n",
       "      <td>True</td>\n",
       "      <td>False</td>\n",
       "      <td>False</td>\n",
       "      <td>False</td>\n",
       "      <td>True</td>\n",
       "      <td>True</td>\n",
       "      <td>False</td>\n",
       "      <td>...</td>\n",
       "      <td>True</td>\n",
       "      <td>True</td>\n",
       "      <td>True</td>\n",
       "      <td>True</td>\n",
       "      <td>True</td>\n",
       "      <td>True</td>\n",
       "      <td>True</td>\n",
       "      <td>True</td>\n",
       "      <td>False</td>\n",
       "      <td>True</td>\n",
       "    </tr>\n",
       "    <tr>\n",
       "      <th>2</th>\n",
       "      <td>False</td>\n",
       "      <td>False</td>\n",
       "      <td>False</td>\n",
       "      <td>True</td>\n",
       "      <td>False</td>\n",
       "      <td>False</td>\n",
       "      <td>False</td>\n",
       "      <td>True</td>\n",
       "      <td>True</td>\n",
       "      <td>False</td>\n",
       "      <td>...</td>\n",
       "      <td>True</td>\n",
       "      <td>True</td>\n",
       "      <td>True</td>\n",
       "      <td>True</td>\n",
       "      <td>True</td>\n",
       "      <td>True</td>\n",
       "      <td>False</td>\n",
       "      <td>True</td>\n",
       "      <td>False</td>\n",
       "      <td>True</td>\n",
       "    </tr>\n",
       "    <tr>\n",
       "      <th>3</th>\n",
       "      <td>False</td>\n",
       "      <td>False</td>\n",
       "      <td>False</td>\n",
       "      <td>True</td>\n",
       "      <td>False</td>\n",
       "      <td>False</td>\n",
       "      <td>False</td>\n",
       "      <td>True</td>\n",
       "      <td>False</td>\n",
       "      <td>False</td>\n",
       "      <td>...</td>\n",
       "      <td>False</td>\n",
       "      <td>True</td>\n",
       "      <td>True</td>\n",
       "      <td>True</td>\n",
       "      <td>True</td>\n",
       "      <td>True</td>\n",
       "      <td>False</td>\n",
       "      <td>True</td>\n",
       "      <td>False</td>\n",
       "      <td>True</td>\n",
       "    </tr>\n",
       "    <tr>\n",
       "      <th>4</th>\n",
       "      <td>False</td>\n",
       "      <td>False</td>\n",
       "      <td>False</td>\n",
       "      <td>False</td>\n",
       "      <td>False</td>\n",
       "      <td>False</td>\n",
       "      <td>False</td>\n",
       "      <td>True</td>\n",
       "      <td>False</td>\n",
       "      <td>False</td>\n",
       "      <td>...</td>\n",
       "      <td>False</td>\n",
       "      <td>True</td>\n",
       "      <td>True</td>\n",
       "      <td>True</td>\n",
       "      <td>True</td>\n",
       "      <td>True</td>\n",
       "      <td>False</td>\n",
       "      <td>True</td>\n",
       "      <td>False</td>\n",
       "      <td>True</td>\n",
       "    </tr>\n",
       "    <tr>\n",
       "      <th>...</th>\n",
       "      <td>...</td>\n",
       "      <td>...</td>\n",
       "      <td>...</td>\n",
       "      <td>...</td>\n",
       "      <td>...</td>\n",
       "      <td>...</td>\n",
       "      <td>...</td>\n",
       "      <td>...</td>\n",
       "      <td>...</td>\n",
       "      <td>...</td>\n",
       "      <td>...</td>\n",
       "      <td>...</td>\n",
       "      <td>...</td>\n",
       "      <td>...</td>\n",
       "      <td>...</td>\n",
       "      <td>...</td>\n",
       "      <td>...</td>\n",
       "      <td>...</td>\n",
       "      <td>...</td>\n",
       "      <td>...</td>\n",
       "      <td>...</td>\n",
       "    </tr>\n",
       "    <tr>\n",
       "      <th>94364</th>\n",
       "      <td>False</td>\n",
       "      <td>False</td>\n",
       "      <td>False</td>\n",
       "      <td>True</td>\n",
       "      <td>False</td>\n",
       "      <td>False</td>\n",
       "      <td>False</td>\n",
       "      <td>True</td>\n",
       "      <td>False</td>\n",
       "      <td>False</td>\n",
       "      <td>...</td>\n",
       "      <td>True</td>\n",
       "      <td>True</td>\n",
       "      <td>True</td>\n",
       "      <td>True</td>\n",
       "      <td>True</td>\n",
       "      <td>True</td>\n",
       "      <td>True</td>\n",
       "      <td>True</td>\n",
       "      <td>True</td>\n",
       "      <td>False</td>\n",
       "    </tr>\n",
       "    <tr>\n",
       "      <th>94365</th>\n",
       "      <td>False</td>\n",
       "      <td>False</td>\n",
       "      <td>False</td>\n",
       "      <td>True</td>\n",
       "      <td>False</td>\n",
       "      <td>False</td>\n",
       "      <td>False</td>\n",
       "      <td>True</td>\n",
       "      <td>False</td>\n",
       "      <td>False</td>\n",
       "      <td>...</td>\n",
       "      <td>True</td>\n",
       "      <td>True</td>\n",
       "      <td>True</td>\n",
       "      <td>True</td>\n",
       "      <td>True</td>\n",
       "      <td>True</td>\n",
       "      <td>True</td>\n",
       "      <td>True</td>\n",
       "      <td>True</td>\n",
       "      <td>False</td>\n",
       "    </tr>\n",
       "    <tr>\n",
       "      <th>94366</th>\n",
       "      <td>False</td>\n",
       "      <td>False</td>\n",
       "      <td>False</td>\n",
       "      <td>True</td>\n",
       "      <td>False</td>\n",
       "      <td>False</td>\n",
       "      <td>False</td>\n",
       "      <td>True</td>\n",
       "      <td>False</td>\n",
       "      <td>False</td>\n",
       "      <td>...</td>\n",
       "      <td>True</td>\n",
       "      <td>True</td>\n",
       "      <td>True</td>\n",
       "      <td>True</td>\n",
       "      <td>True</td>\n",
       "      <td>True</td>\n",
       "      <td>True</td>\n",
       "      <td>True</td>\n",
       "      <td>True</td>\n",
       "      <td>False</td>\n",
       "    </tr>\n",
       "    <tr>\n",
       "      <th>94367</th>\n",
       "      <td>False</td>\n",
       "      <td>False</td>\n",
       "      <td>False</td>\n",
       "      <td>True</td>\n",
       "      <td>False</td>\n",
       "      <td>False</td>\n",
       "      <td>False</td>\n",
       "      <td>True</td>\n",
       "      <td>False</td>\n",
       "      <td>False</td>\n",
       "      <td>...</td>\n",
       "      <td>True</td>\n",
       "      <td>True</td>\n",
       "      <td>True</td>\n",
       "      <td>True</td>\n",
       "      <td>True</td>\n",
       "      <td>True</td>\n",
       "      <td>True</td>\n",
       "      <td>True</td>\n",
       "      <td>True</td>\n",
       "      <td>False</td>\n",
       "    </tr>\n",
       "    <tr>\n",
       "      <th>94368</th>\n",
       "      <td>False</td>\n",
       "      <td>False</td>\n",
       "      <td>False</td>\n",
       "      <td>True</td>\n",
       "      <td>False</td>\n",
       "      <td>False</td>\n",
       "      <td>False</td>\n",
       "      <td>True</td>\n",
       "      <td>False</td>\n",
       "      <td>False</td>\n",
       "      <td>...</td>\n",
       "      <td>True</td>\n",
       "      <td>True</td>\n",
       "      <td>True</td>\n",
       "      <td>True</td>\n",
       "      <td>True</td>\n",
       "      <td>True</td>\n",
       "      <td>True</td>\n",
       "      <td>True</td>\n",
       "      <td>True</td>\n",
       "      <td>False</td>\n",
       "    </tr>\n",
       "  </tbody>\n",
       "</table>\n",
       "<p>94369 rows × 74 columns</p>\n",
       "</div>"
      ],
      "text/plain": [
       "       Fuel Type Code  Station Name  Street Address  Intersection Directions  \\\n",
       "0               False         False           False                     True   \n",
       "1               False         False           False                     True   \n",
       "2               False         False           False                     True   \n",
       "3               False         False           False                     True   \n",
       "4               False         False           False                    False   \n",
       "...               ...           ...             ...                      ...   \n",
       "94364           False         False           False                     True   \n",
       "94365           False         False           False                     True   \n",
       "94366           False         False           False                     True   \n",
       "94367           False         False           False                     True   \n",
       "94368           False         False           False                     True   \n",
       "\n",
       "        City  State    ZIP  Plus4  Station Phone  Status Code  ...  \\\n",
       "0      False  False  False   True           True        False  ...   \n",
       "1      False  False  False   True           True        False  ...   \n",
       "2      False  False  False   True           True        False  ...   \n",
       "3      False  False  False   True          False        False  ...   \n",
       "4      False  False  False   True          False        False  ...   \n",
       "...      ...    ...    ...    ...            ...          ...  ...   \n",
       "94364  False  False  False   True          False        False  ...   \n",
       "94365  False  False  False   True          False        False  ...   \n",
       "94366  False  False  False   True          False        False  ...   \n",
       "94367  False  False  False   True          False        False  ...   \n",
       "94368  False  False  False   True          False        False  ...   \n",
       "\n",
       "       Restricted Access  RD Blends  RD Blends (French)  \\\n",
       "0                   True       True                True   \n",
       "1                   True       True                True   \n",
       "2                   True       True                True   \n",
       "3                  False       True                True   \n",
       "4                  False       True                True   \n",
       "...                  ...        ...                 ...   \n",
       "94364               True       True                True   \n",
       "94365               True       True                True   \n",
       "94366               True       True                True   \n",
       "94367               True       True                True   \n",
       "94368               True       True                True   \n",
       "\n",
       "       RD Blended with Biodiesel  RD Maximum Biodiesel Level  NPS Unit Name  \\\n",
       "0                           True                        True           True   \n",
       "1                           True                        True           True   \n",
       "2                           True                        True           True   \n",
       "3                           True                        True           True   \n",
       "4                           True                        True           True   \n",
       "...                          ...                         ...            ...   \n",
       "94364                       True                        True           True   \n",
       "94365                       True                        True           True   \n",
       "94366                       True                        True           True   \n",
       "94367                       True                        True           True   \n",
       "94368                       True                        True           True   \n",
       "\n",
       "       CNG Station Sells Renewable Natural Gas  \\\n",
       "0                                        False   \n",
       "1                                         True   \n",
       "2                                        False   \n",
       "3                                        False   \n",
       "4                                        False   \n",
       "...                                        ...   \n",
       "94364                                     True   \n",
       "94365                                     True   \n",
       "94366                                     True   \n",
       "94367                                     True   \n",
       "94368                                     True   \n",
       "\n",
       "       LNG Station Sells Renewable Natural Gas  Maximum Vehicle Class  \\\n",
       "0                                         True                  False   \n",
       "1                                         True                  False   \n",
       "2                                         True                  False   \n",
       "3                                         True                  False   \n",
       "4                                         True                  False   \n",
       "...                                        ...                    ...   \n",
       "94364                                     True                   True   \n",
       "94365                                     True                   True   \n",
       "94366                                     True                   True   \n",
       "94367                                     True                   True   \n",
       "94368                                     True                   True   \n",
       "\n",
       "       EV Workplace Charging  \n",
       "0                       True  \n",
       "1                       True  \n",
       "2                       True  \n",
       "3                       True  \n",
       "4                       True  \n",
       "...                      ...  \n",
       "94364                  False  \n",
       "94365                  False  \n",
       "94366                  False  \n",
       "94367                  False  \n",
       "94368                  False  \n",
       "\n",
       "[94369 rows x 74 columns]"
      ]
     },
     "execution_count": 11,
     "metadata": {},
     "output_type": "execute_result"
    }
   ],
   "source": [
    "#find nans \n",
    "df.isnull()"
   ]
  },
  {
   "cell_type": "code",
   "execution_count": 8,
   "metadata": {},
   "outputs": [
    {
     "data": {
      "text/html": [
       "<div>\n",
       "<style scoped>\n",
       "    .dataframe tbody tr th:only-of-type {\n",
       "        vertical-align: middle;\n",
       "    }\n",
       "\n",
       "    .dataframe tbody tr th {\n",
       "        vertical-align: top;\n",
       "    }\n",
       "\n",
       "    .dataframe thead th {\n",
       "        text-align: right;\n",
       "    }\n",
       "</style>\n",
       "<table border=\"1\" class=\"dataframe\">\n",
       "  <thead>\n",
       "    <tr style=\"text-align: right;\">\n",
       "      <th></th>\n",
       "      <th>Plus4</th>\n",
       "      <th>EV Level1 EVSE Num</th>\n",
       "      <th>EV Level2 EVSE Num</th>\n",
       "      <th>EV DC Fast Count</th>\n",
       "      <th>Latitude</th>\n",
       "      <th>Longitude</th>\n",
       "      <th>ID</th>\n",
       "      <th>Federal Agency ID</th>\n",
       "      <th>CNG Dispenser Num</th>\n",
       "      <th>CNG Total Compression Capacity</th>\n",
       "      <th>CNG Storage Capacity</th>\n",
       "      <th>RD Blends (French)</th>\n",
       "      <th>RD Maximum Biodiesel Level</th>\n",
       "    </tr>\n",
       "  </thead>\n",
       "  <tbody>\n",
       "    <tr>\n",
       "      <th>count</th>\n",
       "      <td>0.0</td>\n",
       "      <td>755.000000</td>\n",
       "      <td>71367.000000</td>\n",
       "      <td>12062.000000</td>\n",
       "      <td>94369.000000</td>\n",
       "      <td>94369.000000</td>\n",
       "      <td>94369.000000</td>\n",
       "      <td>1322.000000</td>\n",
       "      <td>1029.000000</td>\n",
       "      <td>622.000000</td>\n",
       "      <td>319.000000</td>\n",
       "      <td>0.0</td>\n",
       "      <td>537.000000</td>\n",
       "    </tr>\n",
       "    <tr>\n",
       "      <th>mean</th>\n",
       "      <td>NaN</td>\n",
       "      <td>4.200000</td>\n",
       "      <td>2.410736</td>\n",
       "      <td>3.789753</td>\n",
       "      <td>39.165938</td>\n",
       "      <td>-95.183994</td>\n",
       "      <td>187443.964406</td>\n",
       "      <td>13.563540</td>\n",
       "      <td>3.029155</td>\n",
       "      <td>915.500000</td>\n",
       "      <td>46889.423197</td>\n",
       "      <td>NaN</td>\n",
       "      <td>5.370577</td>\n",
       "    </tr>\n",
       "    <tr>\n",
       "      <th>std</th>\n",
       "      <td>NaN</td>\n",
       "      <td>8.169848</td>\n",
       "      <td>3.162759</td>\n",
       "      <td>4.697930</td>\n",
       "      <td>5.711686</td>\n",
       "      <td>19.411451</td>\n",
       "      <td>78795.768102</td>\n",
       "      <td>6.158342</td>\n",
       "      <td>6.505245</td>\n",
       "      <td>1075.692844</td>\n",
       "      <td>56246.507440</td>\n",
       "      <td>NaN</td>\n",
       "      <td>4.391574</td>\n",
       "    </tr>\n",
       "    <tr>\n",
       "      <th>min</th>\n",
       "      <td>NaN</td>\n",
       "      <td>1.000000</td>\n",
       "      <td>1.000000</td>\n",
       "      <td>1.000000</td>\n",
       "      <td>-41.354100</td>\n",
       "      <td>-164.848855</td>\n",
       "      <td>17.000000</td>\n",
       "      <td>2.000000</td>\n",
       "      <td>0.000000</td>\n",
       "      <td>2.000000</td>\n",
       "      <td>0.000000</td>\n",
       "      <td>NaN</td>\n",
       "      <td>5.000000</td>\n",
       "    </tr>\n",
       "    <tr>\n",
       "      <th>25%</th>\n",
       "      <td>NaN</td>\n",
       "      <td>1.000000</td>\n",
       "      <td>2.000000</td>\n",
       "      <td>1.000000</td>\n",
       "      <td>34.392261</td>\n",
       "      <td>-117.574477</td>\n",
       "      <td>144203.000000</td>\n",
       "      <td>8.000000</td>\n",
       "      <td>1.000000</td>\n",
       "      <td>250.000000</td>\n",
       "      <td>29203.500000</td>\n",
       "      <td>NaN</td>\n",
       "      <td>5.000000</td>\n",
       "    </tr>\n",
       "    <tr>\n",
       "      <th>50%</th>\n",
       "      <td>NaN</td>\n",
       "      <td>2.000000</td>\n",
       "      <td>2.000000</td>\n",
       "      <td>2.000000</td>\n",
       "      <td>39.399690</td>\n",
       "      <td>-89.316809</td>\n",
       "      <td>187321.000000</td>\n",
       "      <td>14.000000</td>\n",
       "      <td>2.000000</td>\n",
       "      <td>700.000000</td>\n",
       "      <td>36000.000000</td>\n",
       "      <td>NaN</td>\n",
       "      <td>5.000000</td>\n",
       "    </tr>\n",
       "    <tr>\n",
       "      <th>75%</th>\n",
       "      <td>NaN</td>\n",
       "      <td>3.500000</td>\n",
       "      <td>2.000000</td>\n",
       "      <td>4.000000</td>\n",
       "      <td>42.975710</td>\n",
       "      <td>-78.593763</td>\n",
       "      <td>238224.000000</td>\n",
       "      <td>16.000000</td>\n",
       "      <td>2.000000</td>\n",
       "      <td>1200.000000</td>\n",
       "      <td>58000.000000</td>\n",
       "      <td>NaN</td>\n",
       "      <td>5.000000</td>\n",
       "    </tr>\n",
       "    <tr>\n",
       "      <th>max</th>\n",
       "      <td>NaN</td>\n",
       "      <td>90.000000</td>\n",
       "      <td>338.000000</td>\n",
       "      <td>84.000000</td>\n",
       "      <td>64.852466</td>\n",
       "      <td>122.373276</td>\n",
       "      <td>325442.000000</td>\n",
       "      <td>33.000000</td>\n",
       "      <td>80.000000</td>\n",
       "      <td>10620.000000</td>\n",
       "      <td>593136.000000</td>\n",
       "      <td>NaN</td>\n",
       "      <td>99.000000</td>\n",
       "    </tr>\n",
       "  </tbody>\n",
       "</table>\n",
       "</div>"
      ],
      "text/plain": [
       "       Plus4  EV Level1 EVSE Num  EV Level2 EVSE Num  EV DC Fast Count  \\\n",
       "count    0.0          755.000000        71367.000000      12062.000000   \n",
       "mean     NaN            4.200000            2.410736          3.789753   \n",
       "std      NaN            8.169848            3.162759          4.697930   \n",
       "min      NaN            1.000000            1.000000          1.000000   \n",
       "25%      NaN            1.000000            2.000000          1.000000   \n",
       "50%      NaN            2.000000            2.000000          2.000000   \n",
       "75%      NaN            3.500000            2.000000          4.000000   \n",
       "max      NaN           90.000000          338.000000         84.000000   \n",
       "\n",
       "           Latitude     Longitude             ID  Federal Agency ID  \\\n",
       "count  94369.000000  94369.000000   94369.000000        1322.000000   \n",
       "mean      39.165938    -95.183994  187443.964406          13.563540   \n",
       "std        5.711686     19.411451   78795.768102           6.158342   \n",
       "min      -41.354100   -164.848855      17.000000           2.000000   \n",
       "25%       34.392261   -117.574477  144203.000000           8.000000   \n",
       "50%       39.399690    -89.316809  187321.000000          14.000000   \n",
       "75%       42.975710    -78.593763  238224.000000          16.000000   \n",
       "max       64.852466    122.373276  325442.000000          33.000000   \n",
       "\n",
       "       CNG Dispenser Num  CNG Total Compression Capacity  \\\n",
       "count        1029.000000                      622.000000   \n",
       "mean            3.029155                      915.500000   \n",
       "std             6.505245                     1075.692844   \n",
       "min             0.000000                        2.000000   \n",
       "25%             1.000000                      250.000000   \n",
       "50%             2.000000                      700.000000   \n",
       "75%             2.000000                     1200.000000   \n",
       "max            80.000000                    10620.000000   \n",
       "\n",
       "       CNG Storage Capacity  RD Blends (French)  RD Maximum Biodiesel Level  \n",
       "count            319.000000                 0.0                  537.000000  \n",
       "mean           46889.423197                 NaN                    5.370577  \n",
       "std            56246.507440                 NaN                    4.391574  \n",
       "min                0.000000                 NaN                    5.000000  \n",
       "25%            29203.500000                 NaN                    5.000000  \n",
       "50%            36000.000000                 NaN                    5.000000  \n",
       "75%            58000.000000                 NaN                    5.000000  \n",
       "max           593136.000000                 NaN                   99.000000  "
      ]
     },
     "execution_count": 8,
     "metadata": {},
     "output_type": "execute_result"
    }
   ],
   "source": [
    "df.describe()"
   ]
  },
  {
   "cell_type": "markdown",
   "metadata": {},
   "source": [
    "Question 1.\tWhat is the number and percentage of the values of the “Fuel Type Code” column?"
   ]
  },
  {
   "cell_type": "code",
   "execution_count": 9,
   "metadata": {},
   "outputs": [
    {
     "data": {
      "text/plain": [
       "Fuel Type Code\n",
       "ELEC    82214\n",
       "E85      4527\n",
       "LPG      3528\n",
       "BD       1702\n",
       "CNG      1530\n",
       "RD        610\n",
       "HY        133\n",
       "LNG       125\n",
       "Name: count, dtype: int64"
      ]
     },
     "execution_count": 9,
     "metadata": {},
     "output_type": "execute_result"
    }
   ],
   "source": [
    "df['Fuel Type Code'].value_counts().sort_values(ascending=False)"
   ]
  },
  {
   "cell_type": "code",
   "execution_count": 13,
   "metadata": {},
   "outputs": [
    {
     "name": "stdout",
     "output_type": "stream",
     "text": [
      "Fuel Type Code\n",
      "ELEC    87.1%\n",
      "E85      4.8%\n",
      "LPG      3.7%\n",
      "BD       1.8%\n",
      "CNG      1.6%\n",
      "RD       0.6%\n",
      "HY       0.1%\n",
      "LNG      0.1%\n",
      "Name: proportion, dtype: object\n"
     ]
    }
   ],
   "source": [
    "percentages = (df['Fuel Type Code'].value_counts(normalize=True) * 100).round(1).astype(str) + '%'\n",
    "print(percentages)\n"
   ]
  },
  {
   "cell_type": "code",
   "execution_count": 16,
   "metadata": {},
   "outputs": [
    {
     "name": "stdout",
     "output_type": "stream",
     "text": [
      "                count  percentage\n",
      "Fuel Type Code                   \n",
      "ELEC            82214    0.871197\n",
      "E85              4527    0.047971\n",
      "LPG              3528    0.037385\n",
      "BD               1702    0.018036\n",
      "CNG              1530    0.016213\n",
      "RD                610    0.006464\n",
      "HY                133    0.001409\n",
      "LNG               125    0.001325\n"
     ]
    }
   ],
   "source": [
    "counts = df['Fuel Type Code'].value_counts()\n",
    "percentages = df['Fuel Type Code'].value_counts(normalize=True)\n",
    "result = pd.concat([counts, percentages], axis=1, keys=['count', 'percentage'])\n",
    "print(result)"
   ]
  },
  {
   "cell_type": "code",
   "execution_count": 14,
   "metadata": {},
   "outputs": [
    {
     "data": {
      "text/plain": [
       "count     94369\n",
       "unique        8\n",
       "top        ELEC\n",
       "freq      82214\n",
       "Name: Fuel Type Code, dtype: object"
      ]
     },
     "execution_count": 14,
     "metadata": {},
     "output_type": "execute_result"
    }
   ],
   "source": [
    "df['Fuel Type Code'].describe()"
   ]
  },
  {
   "cell_type": "code",
   "execution_count": 14,
   "metadata": {},
   "outputs": [],
   "source": [
    "fuel_type_codes = df['Fuel Type Code'].value_counts(normalize=True)"
   ]
  },
  {
   "cell_type": "code",
   "execution_count": 17,
   "metadata": {},
   "outputs": [],
   "source": [
    "num_unique_values = len(fuel_type_codes)"
   ]
  },
  {
   "cell_type": "code",
   "execution_count": 18,
   "metadata": {},
   "outputs": [],
   "source": [
    "percentage_values = (fuel_type_codes * 100).round(2)"
   ]
  },
  {
   "cell_type": "code",
   "execution_count": 19,
   "metadata": {},
   "outputs": [
    {
     "name": "stdout",
     "output_type": "stream",
     "text": [
      "Number of unique values in 'Fuel Type Code': 8\n",
      "\n",
      "Percentage of each value in 'Fuel Type Code':\n",
      "ELEC: 87.12%\n",
      "E85: 4.8%\n",
      "LPG: 3.74%\n",
      "BD: 1.8%\n",
      "CNG: 1.62%\n",
      "RD: 0.65%\n",
      "HY: 0.14%\n",
      "LNG: 0.13%\n"
     ]
    }
   ],
   "source": [
    "print(\"Number of unique values in 'Fuel Type Code':\", num_unique_values)\n",
    "print(\"\\nPercentage of each value in 'Fuel Type Code':\")\n",
    "for code, percentage in zip(fuel_type_codes.index, percentage_values):\n",
    "    print(f\"{code}: {percentage}%\")"
   ]
  },
  {
   "cell_type": "code",
   "execution_count": 12,
   "metadata": {},
   "outputs": [
    {
     "data": {
      "text/html": [
       "<div>\n",
       "<style scoped>\n",
       "    .dataframe tbody tr th:only-of-type {\n",
       "        vertical-align: middle;\n",
       "    }\n",
       "\n",
       "    .dataframe tbody tr th {\n",
       "        vertical-align: top;\n",
       "    }\n",
       "\n",
       "    .dataframe thead th {\n",
       "        text-align: right;\n",
       "    }\n",
       "</style>\n",
       "<table border=\"1\" class=\"dataframe\">\n",
       "  <thead>\n",
       "    <tr style=\"text-align: right;\">\n",
       "      <th></th>\n",
       "      <th>Fuel Type Code</th>\n",
       "      <th>Station Name</th>\n",
       "      <th>Street Address</th>\n",
       "      <th>Intersection Directions</th>\n",
       "      <th>City</th>\n",
       "      <th>State</th>\n",
       "      <th>ZIP</th>\n",
       "      <th>Plus4</th>\n",
       "      <th>Station Phone</th>\n",
       "      <th>Status Code</th>\n",
       "      <th>...</th>\n",
       "      <th>Restricted Access</th>\n",
       "      <th>RD Blends</th>\n",
       "      <th>RD Blends (French)</th>\n",
       "      <th>RD Blended with Biodiesel</th>\n",
       "      <th>RD Maximum Biodiesel Level</th>\n",
       "      <th>NPS Unit Name</th>\n",
       "      <th>CNG Station Sells Renewable Natural Gas</th>\n",
       "      <th>LNG Station Sells Renewable Natural Gas</th>\n",
       "      <th>Maximum Vehicle Class</th>\n",
       "      <th>EV Workplace Charging</th>\n",
       "    </tr>\n",
       "  </thead>\n",
       "  <tbody>\n",
       "    <tr>\n",
       "      <th>0</th>\n",
       "      <td>CNG</td>\n",
       "      <td>Spire - Montgomery Operations Center</td>\n",
       "      <td>2951 Chestnut St</td>\n",
       "      <td>NaN</td>\n",
       "      <td>Montgomery</td>\n",
       "      <td>AL</td>\n",
       "      <td>36107</td>\n",
       "      <td>NaN</td>\n",
       "      <td>NaN</td>\n",
       "      <td>E</td>\n",
       "      <td>...</td>\n",
       "      <td>NaN</td>\n",
       "      <td>NaN</td>\n",
       "      <td>NaN</td>\n",
       "      <td>NaN</td>\n",
       "      <td>NaN</td>\n",
       "      <td>NaN</td>\n",
       "      <td>False</td>\n",
       "      <td>NaN</td>\n",
       "      <td>MD</td>\n",
       "      <td>NaN</td>\n",
       "    </tr>\n",
       "    <tr>\n",
       "      <th>1</th>\n",
       "      <td>CNG</td>\n",
       "      <td>Metropolitan Atlanta Rapid Transit Authority</td>\n",
       "      <td>2424 Piedmont Rd NE</td>\n",
       "      <td>NaN</td>\n",
       "      <td>Atlanta</td>\n",
       "      <td>GA</td>\n",
       "      <td>30324</td>\n",
       "      <td>NaN</td>\n",
       "      <td>NaN</td>\n",
       "      <td>E</td>\n",
       "      <td>...</td>\n",
       "      <td>NaN</td>\n",
       "      <td>NaN</td>\n",
       "      <td>NaN</td>\n",
       "      <td>NaN</td>\n",
       "      <td>NaN</td>\n",
       "      <td>NaN</td>\n",
       "      <td>NaN</td>\n",
       "      <td>NaN</td>\n",
       "      <td>LD</td>\n",
       "      <td>NaN</td>\n",
       "    </tr>\n",
       "    <tr>\n",
       "      <th>2</th>\n",
       "      <td>CNG</td>\n",
       "      <td>United Parcel Service</td>\n",
       "      <td>270 Marvin Miller Dr</td>\n",
       "      <td>NaN</td>\n",
       "      <td>Atlanta</td>\n",
       "      <td>GA</td>\n",
       "      <td>30336</td>\n",
       "      <td>NaN</td>\n",
       "      <td>NaN</td>\n",
       "      <td>E</td>\n",
       "      <td>...</td>\n",
       "      <td>NaN</td>\n",
       "      <td>NaN</td>\n",
       "      <td>NaN</td>\n",
       "      <td>NaN</td>\n",
       "      <td>NaN</td>\n",
       "      <td>NaN</td>\n",
       "      <td>True</td>\n",
       "      <td>NaN</td>\n",
       "      <td>HD</td>\n",
       "      <td>NaN</td>\n",
       "    </tr>\n",
       "  </tbody>\n",
       "</table>\n",
       "<p>3 rows × 74 columns</p>\n",
       "</div>"
      ],
      "text/plain": [
       "  Fuel Type Code                                  Station Name  \\\n",
       "0            CNG          Spire - Montgomery Operations Center   \n",
       "1            CNG  Metropolitan Atlanta Rapid Transit Authority   \n",
       "2            CNG                         United Parcel Service   \n",
       "\n",
       "         Street Address Intersection Directions        City State    ZIP  \\\n",
       "0      2951 Chestnut St                     NaN  Montgomery    AL  36107   \n",
       "1   2424 Piedmont Rd NE                     NaN     Atlanta    GA  30324   \n",
       "2  270 Marvin Miller Dr                     NaN     Atlanta    GA  30336   \n",
       "\n",
       "   Plus4 Station Phone Status Code  ... Restricted Access RD Blends  \\\n",
       "0    NaN           NaN           E  ...               NaN       NaN   \n",
       "1    NaN           NaN           E  ...               NaN       NaN   \n",
       "2    NaN           NaN           E  ...               NaN       NaN   \n",
       "\n",
       "  RD Blends (French) RD Blended with Biodiesel RD Maximum Biodiesel Level  \\\n",
       "0                NaN                       NaN                        NaN   \n",
       "1                NaN                       NaN                        NaN   \n",
       "2                NaN                       NaN                        NaN   \n",
       "\n",
       "  NPS Unit Name CNG Station Sells Renewable Natural Gas  \\\n",
       "0           NaN                                   False   \n",
       "1           NaN                                     NaN   \n",
       "2           NaN                                    True   \n",
       "\n",
       "   LNG Station Sells Renewable Natural Gas  Maximum Vehicle Class  \\\n",
       "0                                      NaN                     MD   \n",
       "1                                      NaN                     LD   \n",
       "2                                      NaN                     HD   \n",
       "\n",
       "   EV Workplace Charging  \n",
       "0                    NaN  \n",
       "1                    NaN  \n",
       "2                    NaN  \n",
       "\n",
       "[3 rows x 74 columns]"
      ]
     },
     "execution_count": 12,
     "metadata": {},
     "output_type": "execute_result"
    }
   ],
   "source": [
    "df.head(3)"
   ]
  },
  {
   "cell_type": "markdown",
   "metadata": {},
   "source": [
    "Number of Fuel Type code = 94369\n",
    "Percentage of each value in 'Fuel Type Code':\n",
    "ELEC: 87.12%\n",
    "E85: 4.8%\n",
    "LPG: 3.74%\n",
    "BD: 1.8%\n",
    "CNG: 1.62%\n",
    "RD: 0.65%\n",
    "HY: 0.14%\n",
    "LNG: 0.13%"
   ]
  },
  {
   "cell_type": "markdown",
   "metadata": {},
   "source": [
    "Question 2.\tWhat is the number and percentage of the top 3 most common states? Make an “insight” about the location of alternative fuel centers. Where are they being deployed most?"
   ]
  },
  {
   "cell_type": "code",
   "execution_count": 131,
   "metadata": {},
   "outputs": [
    {
     "name": "stdout",
     "output_type": "stream",
     "text": [
      "['Fuel Type Code', 'Station Name', 'Street Address', 'Intersection Directions', 'City', 'State', 'ZIP', 'Plus4', 'Station Phone', 'Status Code', 'Expected Date', 'Groups With Access Code', 'Access Days Time', 'Cards Accepted', 'BD Blends', 'NG Fill Type Code', 'NG PSI', 'EV Level1 EVSE Num', 'EV Level2 EVSE Num', 'EV DC Fast Count', 'EV Other Info', 'EV Network', 'EV Network Web', 'Geocode Status', 'Latitude', 'Longitude', 'Date Last Confirmed', 'ID', 'Updated At', 'Owner Type Code', 'Federal Agency ID', 'Federal Agency Name', 'Open Date', 'Hydrogen Status Link', 'NG Vehicle Class', 'LPG Primary', 'E85 Blender Pump', 'EV Connector Types', 'Country', 'Intersection Directions (French)', 'Access Days Time (French)', 'BD Blends (French)', 'Groups With Access Code (French)', 'Hydrogen Is Retail', 'Access Code', 'Access Detail Code', 'Federal Agency Code', 'Facility Type', 'CNG Dispenser Num', 'CNG On-Site Renewable Source', 'CNG Total Compression Capacity', 'CNG Storage Capacity', 'LNG On-Site Renewable Source', 'E85 Other Ethanol Blends', 'EV Pricing', 'EV Pricing (French)', 'LPG Nozzle Types', 'Hydrogen Pressures', 'Hydrogen Standards', 'CNG Fill Type Code', 'CNG PSI', 'CNG Vehicle Class', 'LNG Vehicle Class', 'EV On-Site Renewable Source', 'Restricted Access', 'RD Blends', 'RD Blends (French)', 'RD Blended with Biodiesel', 'RD Maximum Biodiesel Level', 'NPS Unit Name', 'CNG Station Sells Renewable Natural Gas', 'LNG Station Sells Renewable Natural Gas', 'Maximum Vehicle Class', 'EV Workplace Charging']\n"
     ]
    }
   ],
   "source": [
    "print(df.columns.tolist())\n",
    "top_states = df['State'].value_counts().head(3)\n",
    "total_centers = len(df)\n",
    "top_states_percentage = (top_states / total_centers * 100).round(2)"
   ]
  },
  {
   "cell_type": "code",
   "execution_count": 23,
   "metadata": {},
   "outputs": [
    {
     "name": "stdout",
     "output_type": "stream",
     "text": [
      "Top 3 most common states for alternative fuel centers:\n",
      "State\n",
      "CA    19402\n",
      "QC     4573\n",
      "NY     4478\n",
      "Name: count, dtype: int64\n",
      "\n",
      "Percentage of total alternative fuel centers:\n",
      "State\n",
      "CA    19402\n",
      "QC     4573\n",
      "NY     4478\n",
      "Name: count, dtype: int64:State\n",
      "CA    20.56\n",
      "QC     4.85\n",
      "NY     4.75\n",
      "Name: count, dtype: float64%\n"
     ]
    }
   ],
   "source": [
    "print(\"Top 3 most common states for alternative fuel centers:\")\n",
    "print(top_states)\n",
    "print(\"\\nPercentage of total alternative fuel centers:\")\n",
    "print(f\"{top_states}:{top_states_percentage}%\")"
   ]
  },
  {
   "cell_type": "markdown",
   "metadata": {},
   "source": [
    "OR question 2 can be done this way and arrive with the same answer"
   ]
  },
  {
   "cell_type": "code",
   "execution_count": 18,
   "metadata": {},
   "outputs": [
    {
     "name": "stdout",
     "output_type": "stream",
     "text": [
      "  State  Number of Stations  Percentage\n",
      "0    CA               19402   20.559718\n",
      "1    QC                4573    4.845871\n",
      "2    NY                4478    4.745202\n"
     ]
    }
   ],
   "source": [
    "# Get value counts for states\n",
    "state_counts = df['State'].value_counts()\n",
    "\n",
    "# Get the top 3 states\n",
    "top_3_states = state_counts.head(3)\n",
    "\n",
    "# Calculate percentages\n",
    "total_stations = len(df)\n",
    "percentages = (top_3_states / total_stations) * 100\n",
    "\n",
    "# Create a DataFrame with counts and percentages\n",
    "top_states_df = pd.DataFrame({\n",
    "    'State': top_3_states.index,\n",
    "    'Number of Stations': top_3_states.values,\n",
    "    'Percentage': percentages.values\n",
    "})\n",
    "\n",
    "# Display the result\n",
    "print(top_states_df)\n"
   ]
  },
  {
   "cell_type": "markdown",
   "metadata": {},
   "source": [
    "OR"
   ]
  },
  {
   "cell_type": "code",
   "execution_count": 10,
   "metadata": {},
   "outputs": [
    {
     "name": "stdout",
     "output_type": "stream",
     "text": [
      "Top 3 most common states for alternative fuel stations:\n",
      "State\n",
      "CA    19402\n",
      "QC     4573\n",
      "NY     4478\n",
      "Name: count, dtype: int64\n",
      "\n",
      "Percentage of stations in the top 3 states:\n",
      "State\n",
      "CA    20.562986\n",
      "QC     4.846641\n",
      "NY     4.745957\n",
      "Name: count, dtype: float64\n",
      "\n",
      "Insight:\n",
      "The majority of alternative fuel stations are concentrated in the top 3 states, indicating a focus on deploying these resources in specific regions. This could be driven by a variety of factors, including state policies, the availability of alternative fuels, demand for cleaner transportation options, or infrastructure readiness. These states likely represent areas where the transition to alternative fuels is\n"
     ]
    }
   ],
   "source": [
    "# Count the number of stations per state and get the top 3\n",
    "state_counts = df['State'].value_counts().head(3)\n",
    "total_stations = df['State'].count()\n",
    "\n",
    "# Calculate the percentage of stations in these top 3 states\n",
    "state_percentages = (state_counts / total_stations) * 100\n",
    "\n",
    "# Display the results\n",
    "print(\"Top 3 most common states for alternative fuel stations:\")\n",
    "print(state_counts)\n",
    "print(\"\\nPercentage of stations in the top 3 states:\")\n",
    "print(state_percentages)\n",
    "\n",
    "# Insight about the location of alternative fuel centers\n",
    "print(\"\\nInsight:\")\n",
    "print(\"The majority of alternative fuel stations are concentrated in the top 3 states, indicating a focus on deploying these resources in specific regions. This could be driven by a variety of factors, including state policies, the availability of alternative fuels, demand for cleaner transportation options, or infrastructure readiness. These states likely represent areas where the transition to alternative fuels is.\")\n"
   ]
  },
  {
   "cell_type": "markdown",
   "metadata": {},
   "source": [
    "OR"
   ]
  },
  {
   "cell_type": "code",
   "execution_count": 9,
   "metadata": {},
   "outputs": [
    {
     "name": "stdout",
     "output_type": "stream",
     "text": [
      "Top 3 top_states:\n",
      "1. CA: 20.56%\n",
      "2. QC: 4.85%\n",
      "3. NY: 4.75%\n"
     ]
    },
    {
     "name": "stderr",
     "output_type": "stream",
     "text": [
      "C:\\Users\\bukep\\AppData\\Local\\Temp\\ipykernel_6700\\2857369576.py:11: FutureWarning: Series.__getitem__ treating keys as positions is deprecated. In a future version, integer keys will always be treated as labels (consistent with DataFrame behavior). To access a value by position, use `ser.iloc[pos]`\n",
      "  print(f\"{i+1}. {state}: {top_states_percent[i]:.2f}%\")\n"
     ]
    }
   ],
   "source": [
    "# Get the top 3 most common states\n",
    "top_states = df['State'].value_counts().nlargest(3)\n",
    "\n",
    "# Calculate the percentage of each top state\n",
    "total_rows = len(df)\n",
    "top_states_percent = top_states / total_rows * 100\n",
    "\n",
    "# Print the top 3 states and their percentage\n",
    "print(\"Top 3 top_states:\")\n",
    "for i, state in enumerate(top_states.index):\n",
    "    print(f\"{i+1}. {state}: {top_states_percent[i]:.2f}%\")"
   ]
  },
  {
   "cell_type": "markdown",
   "metadata": {},
   "source": [
    "Question 3.\tLook at the column called “EV_Network.” What are the top 3 most common EV charging networks?"
   ]
  },
  {
   "cell_type": "code",
   "execution_count": 130,
   "metadata": {},
   "outputs": [
    {
     "name": "stdout",
     "output_type": "stream",
     "text": [
      "['Fuel Type Code', 'Station Name', 'Street Address', 'Intersection Directions', 'City', 'State', 'ZIP', 'Plus4', 'Station Phone', 'Status Code', 'Expected Date', 'Groups With Access Code', 'Access Days Time', 'Cards Accepted', 'BD Blends', 'NG Fill Type Code', 'NG PSI', 'EV Level1 EVSE Num', 'EV Level2 EVSE Num', 'EV DC Fast Count', 'EV Other Info', 'EV Network', 'EV Network Web', 'Geocode Status', 'Latitude', 'Longitude', 'Date Last Confirmed', 'ID', 'Updated At', 'Owner Type Code', 'Federal Agency ID', 'Federal Agency Name', 'Open Date', 'Hydrogen Status Link', 'NG Vehicle Class', 'LPG Primary', 'E85 Blender Pump', 'EV Connector Types', 'Country', 'Intersection Directions (French)', 'Access Days Time (French)', 'BD Blends (French)', 'Groups With Access Code (French)', 'Hydrogen Is Retail', 'Access Code', 'Access Detail Code', 'Federal Agency Code', 'Facility Type', 'CNG Dispenser Num', 'CNG On-Site Renewable Source', 'CNG Total Compression Capacity', 'CNG Storage Capacity', 'LNG On-Site Renewable Source', 'E85 Other Ethanol Blends', 'EV Pricing', 'EV Pricing (French)', 'LPG Nozzle Types', 'Hydrogen Pressures', 'Hydrogen Standards', 'CNG Fill Type Code', 'CNG PSI', 'CNG Vehicle Class', 'LNG Vehicle Class', 'EV On-Site Renewable Source', 'Restricted Access', 'RD Blends', 'RD Blends (French)', 'RD Blended with Biodiesel', 'RD Maximum Biodiesel Level', 'NPS Unit Name', 'CNG Station Sells Renewable Natural Gas', 'LNG Station Sells Renewable Natural Gas', 'Maximum Vehicle Class', 'EV Workplace Charging']\n"
     ]
    }
   ],
   "source": [
    "print(df.columns.tolist())"
   ]
  },
  {
   "cell_type": "markdown",
   "metadata": {},
   "source": [
    "From dictionary entry with the following keys: \n",
    "{\n",
    "    \"Index(['Fuel Type'\": \"       'EV Level2 EVSE Num'\",\n",
    "    \" 'Station Name'\": 'EV DC Fast Count'\",\n",
    " \" 'Street Address'\": \" 'EV Other Info'\",\n",
    "    \"\": \" 'EV Network'\"\n",
    "  }\n",
    "  print(df['EV_Network'].value_counts().head(3))\n",
    "  print(df['EV_Network'].value_counts(normalize=True).head(3))\n",
    "  print(df['EV_Network'].value_counts(normalize=True).sort_values(ascending=False).head(3))\n",
    "  print(df['EV_Network'].value_counts(normalize=True).sort_values(ascending=False).tail(3))\n",
    "  print(df['EV_Network'].value_counts(normalize=True).sort_values(ascending=False).head(3))\n",
    "  print(df['EV_Network'].value_counts(normalize=True).sort_values(ascending=False).tail(3))\n",
    "  print(df['EV_Network'].value_counts(normalize=True).sort_values(ascending=False).head(3))\n",
    "  print(df['EV_Network'].value_counts(normalize=True).sort_values(ascending=False).tail(3))\n",
    "  print(df['EV_Network'].value_counts(normalize=True).sort_values(ascending=False).head(3))\n",
    "  "
   ]
  },
  {
   "cell_type": "markdown",
   "metadata": {},
   "source": [
    ".nlargest(3): This function returns the top 3 rows of the resulting Series, sorted in descending order by count. In this case, it gives  the 3 most common EV charging networks based on their occurrence counts."
   ]
  },
  {
   "cell_type": "code",
   "execution_count": 79,
   "metadata": {},
   "outputs": [
    {
     "name": "stdout",
     "output_type": "stream",
     "text": [
      "EV Network\n",
      "ChargePoint Network    39821\n",
      "Non-Networked          12355\n",
      "Blink Network           6451\n",
      "Name: count, dtype: int64\n"
     ]
    }
   ],
   "source": [
    "top_3_networks = df['EV Network'].value_counts().nlargest(3)\n",
    "\n",
    "print(top_3_networks)\n"
   ]
  },
  {
   "cell_type": "markdown",
   "metadata": {},
   "source": [
    "4.\tI want to buy a Tesla. I live in Mississippi. How many charging stations are there in my state?"
   ]
  },
  {
   "cell_type": "code",
   "execution_count": 101,
   "metadata": {},
   "outputs": [
    {
     "name": "stdout",
     "output_type": "stream",
     "text": [
      "Number of Tesla charging stations in Mississippi: 42\n"
     ]
    }
   ],
   "source": [
    "# Filter by state (Mississippi) and fuel type (Tesla)\n",
    "mississippi_tesla_stations = df[(df['State'] == 'MS') & (df['EV Network'].str.contains('Tesla'))]\n",
    "\n",
    "# Get the count of Tesla charging stations in Mississippi\n",
    "num_tesla_stations_in_mississippi = len(mississippi_tesla_stations)\n",
    "\n",
    "# Display the result\n",
    "print(f\"Number of Tesla charging stations in Mississippi: {num_tesla_stations_in_mississippi}\")\n"
   ]
  },
  {
   "cell_type": "markdown",
   "metadata": {},
   "source": [
    "Question 5.\tWhat percentage of stations are owned by the Federal government? "
   ]
  },
  {
   "cell_type": "code",
   "execution_count": 120,
   "metadata": {},
   "outputs": [
    {
     "name": "stdout",
     "output_type": "stream",
     "text": [
      "['Fuel Type Code', 'Station Name', 'Street Address', 'Intersection Directions', 'City', 'State', 'ZIP', 'Plus4', 'Station Phone', 'Status Code', 'Expected Date', 'Groups With Access Code', 'Access Days Time', 'Cards Accepted', 'BD Blends', 'NG Fill Type Code', 'NG PSI', 'EV Level1 EVSE Num', 'EV Level2 EVSE Num', 'EV DC Fast Count', 'EV Other Info', 'EV Network', 'EV Network Web', 'Geocode Status', 'Latitude', 'Longitude', 'Date Last Confirmed', 'ID', 'Updated At', 'Owner Type Code', 'Federal Agency ID', 'Federal Agency Name', 'Open Date', 'Hydrogen Status Link', 'NG Vehicle Class', 'LPG Primary', 'E85 Blender Pump', 'EV Connector Types', 'Country', 'Intersection Directions (French)', 'Access Days Time (French)', 'BD Blends (French)', 'Groups With Access Code (French)', 'Hydrogen Is Retail', 'Access Code', 'Access Detail Code', 'Federal Agency Code', 'Facility Type', 'CNG Dispenser Num', 'CNG On-Site Renewable Source', 'CNG Total Compression Capacity', 'CNG Storage Capacity', 'LNG On-Site Renewable Source', 'E85 Other Ethanol Blends', 'EV Pricing', 'EV Pricing (French)', 'LPG Nozzle Types', 'Hydrogen Pressures', 'Hydrogen Standards', 'CNG Fill Type Code', 'CNG PSI', 'CNG Vehicle Class', 'LNG Vehicle Class', 'EV On-Site Renewable Source', 'Restricted Access', 'RD Blends', 'RD Blends (French)', 'RD Blended with Biodiesel', 'RD Maximum Biodiesel Level', 'NPS Unit Name', 'CNG Station Sells Renewable Natural Gas', 'LNG Station Sells Renewable Natural Gas', 'Maximum Vehicle Class', 'EV Workplace Charging']\n"
     ]
    }
   ],
   "source": [
    "# Display all column names in the DataFrame\n",
    "print(df.columns.tolist())"
   ]
  },
  {
   "cell_type": "code",
   "execution_count": 69,
   "metadata": {},
   "outputs": [
    {
     "name": "stdout",
     "output_type": "stream",
     "text": [
      "0.00% of alternative fuel stations are owned by the Federal government.\n"
     ]
    }
   ],
   "source": [
    "# Filter the DataFrame to only include rows with Federal government as the owner type\n",
    "federal_gov_df = df[df['Owner Type Code'] == 'Federal Government']\n",
    "\n",
    "# Calculate the percentage of Federal government-owned stations\n",
    "federal_gov_percentage = (federal_gov_df.shape[0] / df.shape[0]) * 100\n",
    "\n",
    "# Print the percentage of Federal government-owned stations\n",
    "print(f\"{federal_gov_percentage:.2f}% of alternative fuel stations are owned by the Federal government.\")"
   ]
  },
  {
   "cell_type": "markdown",
   "metadata": {},
   "source": [
    "Question 6.\tWhat are the top 3 most popular facility types? Why do you think those facility types are the most popular?"
   ]
  },
  {
   "cell_type": "code",
   "execution_count": 50,
   "metadata": {},
   "outputs": [
    {
     "name": "stdout",
     "output_type": "stream",
     "text": [
      "Top 3 most common facility types:\n",
      "Facility Type\n",
      "CONVENIENCE_STORE    4912\n",
      "HOTEL                3454\n",
      "CAR_DEALER           3116\n",
      "Name: count, dtype: int64\n"
     ]
    }
   ],
   "source": [
    "# Count the number of occurrences of each facility type\n",
    "facility_type_counts = df['Facility Type'].value_counts()\n",
    "\n",
    "# Get the top 3 most common facility types\n",
    "top_3_facility_types = facility_type_counts.head(3)\n",
    "\n",
    "# Print the top 3 most common facility types\n",
    "print(\"Top 3 most common facility types:\")\n",
    "print(top_3_facility_types)"
   ]
  },
  {
   "cell_type": "code",
   "execution_count": 53,
   "metadata": {},
   "outputs": [
    {
     "name": "stdout",
     "output_type": "stream",
     "text": [
      "Facility Type\n",
      "CONVENIENCE_STORE    4912\n",
      "HOTEL                3454\n",
      "CAR_DEALER           3116\n",
      "GAS_STATION          2469\n",
      "FUEL_RESELLER        1467\n",
      "                     ... \n",
      "PHARMACY               12\n",
      "WORKPLACE               6\n",
      "MOTOR_POOL              5\n",
      "STADIUM                 3\n",
      "TNC                     1\n",
      "Name: count, Length: 63, dtype: int64\n"
     ]
    }
   ],
   "source": [
    "top_facility_types = df['Facility Type'].value_counts()\n",
    "top_3_facility_types = facility_type_counts.head(3)\n",
    "print(top_facility_types)"
   ]
  },
  {
   "cell_type": "code",
   "execution_count": 31,
   "metadata": {},
   "outputs": [
    {
     "name": "stdout",
     "output_type": "stream",
     "text": [
      "Top 3 Most Popular Facility Types:\n",
      "Facility Type\n",
      "CONVENIENCE_STORE    4912\n",
      "HOTEL                3454\n",
      "CAR_DEALER           3116\n",
      "Name: count, dtype: int64\n"
     ]
    }
   ],
   "source": [
    "# Get value counts for facility types\n",
    "facility_counts = df['Facility Type'].value_counts()\n",
    "\n",
    "# Get the top 3 facility types\n",
    "top_3_facilities = facility_counts.head(3)\n",
    "\n",
    "# Display the result\n",
    "print(\"Top 3 Most Popular Facility Types:\")\n",
    "print(top_3_facilities)\n"
   ]
  },
  {
   "cell_type": "markdown",
   "metadata": {},
   "source": [
    "Question 7. For Level 2 EV charging stations (column “EV Level2 EVSE Num”), how many Level 2 EV Charging stations have more than 10 chargers?"
   ]
  },
  {
   "cell_type": "code",
   "execution_count": 125,
   "metadata": {},
   "outputs": [
    {
     "name": "stdout",
     "output_type": "stream",
     "text": [
      "['Fuel Type Code', 'Station Name', 'Street Address', 'Intersection Directions', 'City', 'State', 'ZIP', 'Plus4', 'Station Phone', 'Status Code', 'Expected Date', 'Groups With Access Code', 'Access Days Time', 'Cards Accepted', 'BD Blends', 'NG Fill Type Code', 'NG PSI', 'EV Level1 EVSE Num', 'EV Level2 EVSE Num', 'EV DC Fast Count', 'EV Other Info', 'EV Network', 'EV Network Web', 'Geocode Status', 'Latitude', 'Longitude', 'Date Last Confirmed', 'ID', 'Updated At', 'Owner Type Code', 'Federal Agency ID', 'Federal Agency Name', 'Open Date', 'Hydrogen Status Link', 'NG Vehicle Class', 'LPG Primary', 'E85 Blender Pump', 'EV Connector Types', 'Country', 'Intersection Directions (French)', 'Access Days Time (French)', 'BD Blends (French)', 'Groups With Access Code (French)', 'Hydrogen Is Retail', 'Access Code', 'Access Detail Code', 'Federal Agency Code', 'Facility Type', 'CNG Dispenser Num', 'CNG On-Site Renewable Source', 'CNG Total Compression Capacity', 'CNG Storage Capacity', 'LNG On-Site Renewable Source', 'E85 Other Ethanol Blends', 'EV Pricing', 'EV Pricing (French)', 'LPG Nozzle Types', 'Hydrogen Pressures', 'Hydrogen Standards', 'CNG Fill Type Code', 'CNG PSI', 'CNG Vehicle Class', 'LNG Vehicle Class', 'EV On-Site Renewable Source', 'Restricted Access', 'RD Blends', 'RD Blends (French)', 'RD Blended with Biodiesel', 'RD Maximum Biodiesel Level', 'NPS Unit Name', 'CNG Station Sells Renewable Natural Gas', 'LNG Station Sells Renewable Natural Gas', 'Maximum Vehicle Class', 'EV Workplace Charging']\n"
     ]
    }
   ],
   "source": [
    "print(df.columns.tolist())"
   ]
  },
  {
   "cell_type": "code",
   "execution_count": 54,
   "metadata": {},
   "outputs": [
    {
     "name": "stdout",
     "output_type": "stream",
     "text": [
      "There are 946 Level 2 EV charging stations with more than 10 chargers.\n"
     ]
    }
   ],
   "source": [
    "# Filter the DataFrame to only include rows with Level 2 EV charging stations\n",
    "level2_df = df[df['EV Level2 EVSE Num'] > 0]\n",
    "\n",
    "# Count the number of Level 2 EV charging stations with more than 10 chargers\n",
    "more_than_10_chargers = (level2_df['EV Level2 EVSE Num'] > 10).sum()\n",
    "\n",
    "# Print the number of Level 2 EV charging stations with more than 10 chargers\n",
    "print(f\"There are {more_than_10_chargers} Level 2 EV charging stations with more than 10 chargers.\")"
   ]
  },
  {
   "cell_type": "code",
   "execution_count": 56,
   "metadata": {},
   "outputs": [
    {
     "name": "stdout",
     "output_type": "stream",
     "text": [
      "Fuel Type Code                             946\n",
      "Station Name                               946\n",
      "Street Address                             946\n",
      "Intersection Directions                     99\n",
      "City                                       946\n",
      "                                          ... \n",
      "NPS Unit Name                                2\n",
      "CNG Station Sells Renewable Natural Gas      0\n",
      "LNG Station Sells Renewable Natural Gas      0\n",
      "Maximum Vehicle Class                      351\n",
      "EV Workplace Charging                      945\n",
      "Length: 74, dtype: int64\n"
     ]
    }
   ],
   "source": [
    "num_stations_with_more_than_10_chargers = df[(df['EV Level2 EVSE Num'] > 10)].count()\n",
    "print(num_stations_with_more_than_10_chargers)"
   ]
  },
  {
   "cell_type": "markdown",
   "metadata": {},
   "source": [
    "Question 8. List 3 questions that you would want to ask if you are looking to open a new alternative fuel center.\n",
    "Below are the questions, i would ask for alternative fuel centers;"
   ]
  },
  {
   "cell_type": "markdown",
   "metadata": {},
   "source": [
    "Question A: What is the demand for alternative fuel in the area?\n",
    "Question B: What is the distribution of alternative fuel types in the area?\n",
    "Question C: What is the distribution of facility types in the area?"
   ]
  },
  {
   "cell_type": "code",
   "execution_count": null,
   "metadata": {},
   "outputs": [],
   "source": [
    "# Question A: What is the demand for alternative fuel in the area?\n",
    "# Count the number of alternative fuel stations in the area\n",
    "num_stations = df[(df['State'] == 'your_state') & (df['City'] == 'your_city')].shape[0]\n",
    "\n",
    "# Print the number of alternative fuel stations in the area\n",
    "print(f\"There are currently {num_stations} alternative fuel stations in {your_city}, {your_state}.\")"
   ]
  },
  {
   "cell_type": "code",
   "execution_count": 32,
   "metadata": {},
   "outputs": [
    {
     "name": "stdout",
     "output_type": "stream",
     "text": [
      "Distribution of alternative fuel types in {your_city}, {your_state}:\n",
      "Series([], Name: count, dtype: int64)\n"
     ]
    }
   ],
   "source": [
    "#Question B: What is the distribution of alternative fuel types in the area?\n",
    "# Count the number of occurrences of each alternative fuel type in the area\n",
    "fuel_type_counts = df[(df['State'] == 'your_state') & (df['City'] == 'your_city')]['Fuel Type Code'].value_counts()\n",
    "\n",
    "# Print the distribution of alternative fuel types in the area\n",
    "print(\"Distribution of alternative fuel types in {your_city}, {your_state}:\")\n",
    "print(fuel_type_counts)"
   ]
  },
  {
   "cell_type": "code",
   "execution_count": 33,
   "metadata": {},
   "outputs": [
    {
     "name": "stdout",
     "output_type": "stream",
     "text": [
      "Distribution of facility types in {your_city}, {your_state}:\n",
      "Series([], Name: count, dtype: int64)\n"
     ]
    }
   ],
   "source": [
    "# Question C: What is the distribution of facility types in the area?\n",
    "# Count the number of occurrences of each facility type in the area\n",
    "facility_type_counts = df[(df['State'] == 'your_state') & (df['City'] == 'your_city')]['Facility Type'].value_counts()\n",
    "\n",
    "# Print the distribution of facility types in the area\n",
    "print(\"Distribution of facility types in {your_city}, {your_state}:\")\n",
    "print(facility_type_counts)"
   ]
  },
  {
   "cell_type": "markdown",
   "metadata": {},
   "source": [
    "Question 9.\tWhat is an “insight” that you could communicate to someone who is thinking about whether to invest in a new alternative fuel center"
   ]
  },
  {
   "cell_type": "markdown",
   "metadata": {},
   "source": [
    "These are the insights that i would communicate to investor to be in an alternative fuel center:\n",
    "\n",
    "The demand for alternative fuel is growing, and there is a trend towards increased adoption of electric vehicles (EVs) in particular. According to the International Energy Agency - see reference, the number of electric cars on the road worldwide surpassed 1 million in 2020, a 40% year-on-year increase. This trend is expected to continue, with the number of electric cars projected to reach 140 million by 2030.\n",
    "\n",
    "Investing in an alternative fuel center now could position you to take advantage of this growing market. However, it is important to carefully consider the location and type of alternative fuel center, as well as the current state of alternative fuel infrastructure in the area. By analyzing data on alternative fuel stations, such as the data available from the US Department of Energy's Alternative Fuels Data Center, you can make informed decisions about the type and location of your new alternative fuel center.\n",
    "\n",
    "Additionally, it is important to consider the potential environmental benefits of investing in alternative fuel. Alternative fuels, such as electricity, hydrogen, and biofuels, can produce lower greenhouse gas emissions than traditional fossil fuels, which can help reduce the carbon footprint of transportation. By investing in alternative fuel, you can contribute to a more sustainable future and potentially attract customers who prioritize environmental concerns.\n",
    "\n",
    "Overall, investing in an alternative fuel center can be a smart business decision that aligns with growing market trends and environmental goals. However, it is important to carefully consider the location, type, and potential environmental benefits of your investment.\n",
    "\n",
    "Based on the reference below;\n",
    "1. International Energy Agency. (2021). Global EV Outlook 201: Achieving an Electric Vehicle Future. Retrieved https://www.iea.org/reports/global--outlook-2021\n",
    "2. US Department of Energy's Alternative Fuels Data Center. Alternative Fueling Station Counts by State and County. Retrieved from https://afdc.energy.gov/data/stations/counts\n",
    "3. US Department of Energy's Alternative Fuels Data Center. Alternative Fueling Station Locations by Fuel Type. Retrieved from https://afdc.energy.gov/data/stations/stationsbyfueltype.html\n",
    "4. US Environmental Protection Agency. Greenhouse Gas Emissions from Transportation. Retrieved from https://www.epa.gov/greenvehicles/fast-facts-transportation-greenhouse-gas-emissions "
   ]
  },
  {
   "cell_type": "markdown",
   "metadata": {},
   "source": [
    "Question 10.\tList an insight or fact about a column of your choosing. List the column name and give some piece of information about that column. "
   ]
  },
  {
   "cell_type": "code",
   "execution_count": 67,
   "metadata": {},
   "outputs": [
    {
     "name": "stdout",
     "output_type": "stream",
     "text": [
      "State\n",
      "CA    19402\n",
      "QC     4573\n",
      "NY     4478\n",
      "ON     4379\n",
      "TX     4168\n",
      "Name: count, dtype: int64\n",
      "Missing values in the 'State' column:  15\n"
     ]
    }
   ],
   "source": [
    "# Choosing the state column\n",
    "# check for missing values in the state column\n",
    "print(df['State'].value_counts().head())\n",
    "print(\"Missing values in the 'State' column: \", df['State'].isnull().sum())"
   ]
  },
  {
   "cell_type": "code",
   "execution_count": 62,
   "metadata": {},
   "outputs": [
    {
     "name": "stdout",
     "output_type": "stream",
     "text": [
      "Number of unique states:  65\n"
     ]
    }
   ],
   "source": [
    "# Counting the number of unique values in the \"State\" column\n",
    "print(\"Number of unique states: \", df['State'].nunique())"
   ]
  },
  {
   "cell_type": "code",
   "execution_count": 68,
   "metadata": {},
   "outputs": [
    {
     "name": "stdout",
     "output_type": "stream",
     "text": [
      "Percentage of rows for each state:\n",
      " State\n",
      "CA    0.205630\n",
      "QC    0.048466\n",
      "NY    0.047460\n",
      "ON    0.046410\n",
      "TX    0.044174\n",
      "        ...   \n",
      "AK    0.000699\n",
      "YT    0.000435\n",
      "PR    0.000233\n",
      "NT    0.000032\n",
      "KA    0.000011\n",
      "Name: proportion, Length: 65, dtype: float64\n"
     ]
    }
   ],
   "source": [
    "# calculate the percentage of rows for each state\n",
    "state_counts = df['State'].value_counts(normalize=True) \n",
    "print(\"Percentage of rows for each state:\\n\", state_counts)"
   ]
  }
 ],
 "metadata": {
  "kernelspec": {
   "display_name": "Python 3",
   "language": "python",
   "name": "python3"
  },
  "language_info": {
   "codemirror_mode": {
    "name": "ipython",
    "version": 3
   },
   "file_extension": ".py",
   "mimetype": "text/x-python",
   "name": "python",
   "nbconvert_exporter": "python",
   "pygments_lexer": "ipython3",
   "version": "3.12.1"
  }
 },
 "nbformat": 4,
 "nbformat_minor": 2
}
